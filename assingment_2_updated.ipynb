{
 "cells": [
  {
   "cell_type": "markdown",
   "id": "e0ee8d95-bda1-4b7e-a792-2e7e73608ca8",
   "metadata": {},
   "source": [
    "#q1)\n",
    "Single-line comments: Single-line comments start with the # (hash) symbol. Anything after the # symbol on the same line is considered a comment and is ignored by the Python interpreter. For example:\n",
    "# This is a single-line comment\n",
    "print(\"Hello, World!\")  # This is another single-line comment\n",
    "Multi-line comments: Multi-line comments, also known as docstrings, are used to add comments spanning multiple lines. \n",
    "Python allows the use of triple quotes (''' or \"\"\") to create multi-line comments. While these are primarily used for documenting functions, classes, or modules, they can also be used as regular comments. \n",
    "For example:\n",
    "'''\n",
    "This is a multi-line comment.\n",
    "It can span multiple lines.\n",
    "'''\n",
    "print(\"Hello, World!\")\n"
   ]
  },
  {
   "cell_type": "markdown",
   "id": "6b55aa0d-bd72-4357-9cc8-934219b3e4f7",
   "metadata": {},
   "source": [
    "#q2)\n",
    "In Python, variables are used to store data values.\n",
    "variable_name = value\n"
   ]
  },
  {
   "cell_type": "markdown",
   "id": "18e2bdeb-1941-47b0-bd9c-f202a6cec893",
   "metadata": {},
   "source": [
    "#q3)\n",
    "1.Implicit Type Conversion: Python performs implicit type conversion (also known as coercion) automatically in certain situations when it's safe to do so. For example, when performing arithmetic operations between compatible data types, Python will automatically convert one type to another. \n",
    "Here's an example:\n",
    "x = 10    # integer\n",
    "y = 3.14  # float\n",
    "\n",
    "result = x + y  # The integer x is implicitly converted to float\n",
    "print(result)  # Output: 13.14\n",
    "2.Explicit Type Conversion: In explicit type conversion, also known as type casting, you explicitly convert one data type to another using type conversion functions or constructors. Here are some commonly used type conversion functions:\n",
    "x = 5\n",
    "y = \"10\"\n",
    "\n",
    "sum = x + int(y)  # Convert y from string to integer and perform the addition\n",
    "print(sum)       # Output: 15\n",
    "\n",
    "pi = 3.14159\n",
    "pi_str = str(pi)  # Convert pi from float to string\n",
    "print(pi_str)    # Output: \"3.14159\"\n"
   ]
  },
  {
   "cell_type": "markdown",
   "id": "630c51a1-894b-4561-ad2b-f8eafab1d84f",
   "metadata": {},
   "source": [
    "q4.)\n",
    "Open a text editor and create a new file. Save it with a .py extension, which is the standard extension for Python scripts. For example, you can save it as script.py.\n",
    "\n",
    "Write your Python code in the script file using any text editor or integrated development environment (IDE). For example, let's write a simple \"Hello, World!\" script:\n",
    "\n",
    "Save the file after writing your code.\n",
    "\n",
    "Open the command line or terminal.\n",
    "\n",
    "Navigate to the directory where you saved the Python script. You can use the cd command to change directories. For example, if your script is saved on the desktop, you can use:\n",
    "\n",
    "cd Desktop\n",
    "\n",
    "Once you are in the correct directory, you can execute the Python script by typing python followed by the name of your script file. For example:\n",
    "\n",
    "python script.py\n",
    "\n",
    "Press the Enter key to run the command. The output of your Python script, in this case, \"Hello, World!\", will be displayed in the command line."
   ]
  },
  {
   "cell_type": "code",
   "execution_count": 1,
   "id": "79ab6ef4-23d9-4618-9112-f114953a94e6",
   "metadata": {},
   "outputs": [
    {
     "name": "stdout",
     "output_type": "stream",
     "text": [
      "[2, 3]\n"
     ]
    }
   ],
   "source": [
    "#q5)\n",
    "my_list = [1, 2, 3, 4, 5]\n",
    "sub_list = my_list[1:3]\n",
    "print(sub_list)\n"
   ]
  },
  {
   "cell_type": "markdown",
   "id": "0ed47694-bdf8-478b-8985-e71d382de158",
   "metadata": {},
   "source": [
    "q6) In mathematics, a complex number is a number that comprises a real part and an imaginary part. It is represented in the form a + bi, where a is the real part and b is the imaginary part, and i is the imaginary unit defined as the square root of -1.\n",
    "in python we can define it as\n",
    "z = a + bj\n"
   ]
  },
  {
   "cell_type": "markdown",
   "id": "61b493d4-cf4b-45f8-b644-6e894c9f7d38",
   "metadata": {},
   "source": [
    "q7)\n",
    "Python is a dynamically-typed language, so you don't need to specify the type of the variable explicitly. The type is inferred from the value assigned to it. In this case, age would be considered an integer variable because it is assigned an integer value.\n",
    "age = 25\n",
    "print(age)\n"
   ]
  },
  {
   "cell_type": "code",
   "execution_count": null,
   "id": "976c4d3c-c282-4c0f-a689-a3d05db90c55",
   "metadata": {},
   "outputs": [],
   "source": [
    "#q8)\n",
    "price = 9.99\n",
    "#the variable is of float data type"
   ]
  },
  {
   "cell_type": "code",
   "execution_count": 2,
   "id": "c1a8e45c-f32f-4106-a4e8-497809e574b8",
   "metadata": {},
   "outputs": [
    {
     "name": "stdout",
     "output_type": "stream",
     "text": [
      "Mohammed Azeem\n"
     ]
    }
   ],
   "source": [
    "#q9)\n",
    "name = \"Mohammed Azeem\"\n",
    "print(name)\n"
   ]
  },
  {
   "cell_type": "code",
   "execution_count": 3,
   "id": "cdef5e82-17d1-49af-ad99-febc73b774aa",
   "metadata": {},
   "outputs": [
    {
     "name": "stdout",
     "output_type": "stream",
     "text": [
      "World\n"
     ]
    }
   ],
   "source": [
    "#q10)\n",
    "string = \"Hello, World!\"\n",
    "substring = string[7:12]\n",
    "print(substring)\n"
   ]
  },
  {
   "cell_type": "code",
   "execution_count": null,
   "id": "1c46da37-4843-49c8-9922-996d557fa2f7",
   "metadata": {},
   "outputs": [],
   "source": [
    "#q11)\n",
    "is_student = True\n"
   ]
  }
 ],
 "metadata": {
  "kernelspec": {
   "display_name": "Python 3 (ipykernel)",
   "language": "python",
   "name": "python3"
  },
  "language_info": {
   "codemirror_mode": {
    "name": "ipython",
    "version": 3
   },
   "file_extension": ".py",
   "mimetype": "text/x-python",
   "name": "python",
   "nbconvert_exporter": "python",
   "pygments_lexer": "ipython3",
   "version": "3.10.8"
  }
 },
 "nbformat": 4,
 "nbformat_minor": 5
}
